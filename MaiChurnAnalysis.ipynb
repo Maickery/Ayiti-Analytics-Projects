{
 "cells": [
  {
   "cell_type": "markdown",
   "metadata": {},
   "source": [
    "# Churn Analysis Project"
   ]
  },
  {
   "cell_type": "markdown",
   "metadata": {},
   "source": [
    "## A. Import libraries required and Data processing"
   ]
  },
  {
   "cell_type": "code",
   "execution_count": 2,
   "metadata": {},
   "outputs": [],
   "source": [
    "# for dataframe computaion\n",
    "import pandas as pd\n",
    "# for vector computation\n",
    "import numpy as np\n",
    "# for plot\n",
    "import matplotlib.pyplot as plt\n",
    "import seaborn as sns\n",
    "# for Statistical functions\n",
    "import scipy.stats as stats  \n",
    "# for data preprocessing\n",
    "from sklearn.preprocessing import LabelEncoder, StandardScaler\n",
    "from sklearn.impute import SimpleImputer\n",
    "# for logistic regression\n",
    "from sklearn.linear_model import LogisticRegression\n",
    "# for splitting and train and test datastet randomly\n",
    "from sklearn.model_selection import train_test_split\n",
    "# for metrics and model evaluation\n",
    "from sklearn.metrics import classification_report "
   ]
  },
  {
   "cell_type": "code",
   "execution_count": 3,
   "metadata": {},
   "outputs": [
    {
     "data": {
      "text/html": [
       "<div>\n",
       "<style scoped>\n",
       "    .dataframe tbody tr th:only-of-type {\n",
       "        vertical-align: middle;\n",
       "    }\n",
       "\n",
       "    .dataframe tbody tr th {\n",
       "        vertical-align: top;\n",
       "    }\n",
       "\n",
       "    .dataframe thead th {\n",
       "        text-align: right;\n",
       "    }\n",
       "</style>\n",
       "<table border=\"1\" class=\"dataframe\">\n",
       "  <thead>\n",
       "    <tr style=\"text-align: right;\">\n",
       "      <th></th>\n",
       "      <th>customerID</th>\n",
       "      <th>gender</th>\n",
       "      <th>SeniorCitizen</th>\n",
       "      <th>Partner</th>\n",
       "      <th>Dependents</th>\n",
       "      <th>tenure</th>\n",
       "      <th>PhoneService</th>\n",
       "      <th>MultipleLines</th>\n",
       "      <th>InternetService</th>\n",
       "      <th>OnlineSecurity</th>\n",
       "      <th>...</th>\n",
       "      <th>DeviceProtection</th>\n",
       "      <th>TechSupport</th>\n",
       "      <th>StreamingTV</th>\n",
       "      <th>StreamingMovies</th>\n",
       "      <th>Contract</th>\n",
       "      <th>PaperlessBilling</th>\n",
       "      <th>PaymentMethod</th>\n",
       "      <th>MonthlyCharges</th>\n",
       "      <th>TotalCharges</th>\n",
       "      <th>Churn</th>\n",
       "    </tr>\n",
       "  </thead>\n",
       "  <tbody>\n",
       "    <tr>\n",
       "      <th>0</th>\n",
       "      <td>7590-VHVEG</td>\n",
       "      <td>Female</td>\n",
       "      <td>0</td>\n",
       "      <td>Yes</td>\n",
       "      <td>No</td>\n",
       "      <td>1</td>\n",
       "      <td>No</td>\n",
       "      <td>No phone service</td>\n",
       "      <td>DSL</td>\n",
       "      <td>No</td>\n",
       "      <td>...</td>\n",
       "      <td>No</td>\n",
       "      <td>No</td>\n",
       "      <td>No</td>\n",
       "      <td>No</td>\n",
       "      <td>Month-to-month</td>\n",
       "      <td>Yes</td>\n",
       "      <td>Electronic check</td>\n",
       "      <td>29.85</td>\n",
       "      <td>29.85</td>\n",
       "      <td>No</td>\n",
       "    </tr>\n",
       "    <tr>\n",
       "      <th>1</th>\n",
       "      <td>5575-GNVDE</td>\n",
       "      <td>Male</td>\n",
       "      <td>0</td>\n",
       "      <td>No</td>\n",
       "      <td>No</td>\n",
       "      <td>34</td>\n",
       "      <td>Yes</td>\n",
       "      <td>No</td>\n",
       "      <td>DSL</td>\n",
       "      <td>Yes</td>\n",
       "      <td>...</td>\n",
       "      <td>Yes</td>\n",
       "      <td>No</td>\n",
       "      <td>No</td>\n",
       "      <td>No</td>\n",
       "      <td>One year</td>\n",
       "      <td>No</td>\n",
       "      <td>Mailed check</td>\n",
       "      <td>56.95</td>\n",
       "      <td>1889.5</td>\n",
       "      <td>No</td>\n",
       "    </tr>\n",
       "    <tr>\n",
       "      <th>2</th>\n",
       "      <td>3668-QPYBK</td>\n",
       "      <td>Male</td>\n",
       "      <td>0</td>\n",
       "      <td>No</td>\n",
       "      <td>No</td>\n",
       "      <td>2</td>\n",
       "      <td>Yes</td>\n",
       "      <td>No</td>\n",
       "      <td>DSL</td>\n",
       "      <td>Yes</td>\n",
       "      <td>...</td>\n",
       "      <td>No</td>\n",
       "      <td>No</td>\n",
       "      <td>No</td>\n",
       "      <td>No</td>\n",
       "      <td>Month-to-month</td>\n",
       "      <td>Yes</td>\n",
       "      <td>Mailed check</td>\n",
       "      <td>53.85</td>\n",
       "      <td>108.15</td>\n",
       "      <td>Yes</td>\n",
       "    </tr>\n",
       "    <tr>\n",
       "      <th>3</th>\n",
       "      <td>7795-CFOCW</td>\n",
       "      <td>Male</td>\n",
       "      <td>0</td>\n",
       "      <td>No</td>\n",
       "      <td>No</td>\n",
       "      <td>45</td>\n",
       "      <td>No</td>\n",
       "      <td>No phone service</td>\n",
       "      <td>DSL</td>\n",
       "      <td>Yes</td>\n",
       "      <td>...</td>\n",
       "      <td>Yes</td>\n",
       "      <td>Yes</td>\n",
       "      <td>No</td>\n",
       "      <td>No</td>\n",
       "      <td>One year</td>\n",
       "      <td>No</td>\n",
       "      <td>Bank transfer (automatic)</td>\n",
       "      <td>42.30</td>\n",
       "      <td>1840.75</td>\n",
       "      <td>No</td>\n",
       "    </tr>\n",
       "    <tr>\n",
       "      <th>4</th>\n",
       "      <td>9237-HQITU</td>\n",
       "      <td>Female</td>\n",
       "      <td>0</td>\n",
       "      <td>No</td>\n",
       "      <td>No</td>\n",
       "      <td>2</td>\n",
       "      <td>Yes</td>\n",
       "      <td>No</td>\n",
       "      <td>Fiber optic</td>\n",
       "      <td>No</td>\n",
       "      <td>...</td>\n",
       "      <td>No</td>\n",
       "      <td>No</td>\n",
       "      <td>No</td>\n",
       "      <td>No</td>\n",
       "      <td>Month-to-month</td>\n",
       "      <td>Yes</td>\n",
       "      <td>Electronic check</td>\n",
       "      <td>70.70</td>\n",
       "      <td>151.65</td>\n",
       "      <td>Yes</td>\n",
       "    </tr>\n",
       "    <tr>\n",
       "      <th>5</th>\n",
       "      <td>9305-CDSKC</td>\n",
       "      <td>Female</td>\n",
       "      <td>0</td>\n",
       "      <td>No</td>\n",
       "      <td>No</td>\n",
       "      <td>8</td>\n",
       "      <td>Yes</td>\n",
       "      <td>Yes</td>\n",
       "      <td>Fiber optic</td>\n",
       "      <td>No</td>\n",
       "      <td>...</td>\n",
       "      <td>Yes</td>\n",
       "      <td>No</td>\n",
       "      <td>Yes</td>\n",
       "      <td>Yes</td>\n",
       "      <td>Month-to-month</td>\n",
       "      <td>Yes</td>\n",
       "      <td>Electronic check</td>\n",
       "      <td>99.65</td>\n",
       "      <td>820.5</td>\n",
       "      <td>Yes</td>\n",
       "    </tr>\n",
       "    <tr>\n",
       "      <th>6</th>\n",
       "      <td>1452-KIOVK</td>\n",
       "      <td>Male</td>\n",
       "      <td>0</td>\n",
       "      <td>No</td>\n",
       "      <td>Yes</td>\n",
       "      <td>22</td>\n",
       "      <td>Yes</td>\n",
       "      <td>Yes</td>\n",
       "      <td>Fiber optic</td>\n",
       "      <td>No</td>\n",
       "      <td>...</td>\n",
       "      <td>No</td>\n",
       "      <td>No</td>\n",
       "      <td>Yes</td>\n",
       "      <td>No</td>\n",
       "      <td>Month-to-month</td>\n",
       "      <td>Yes</td>\n",
       "      <td>Credit card (automatic)</td>\n",
       "      <td>89.10</td>\n",
       "      <td>1949.4</td>\n",
       "      <td>No</td>\n",
       "    </tr>\n",
       "    <tr>\n",
       "      <th>7</th>\n",
       "      <td>6713-OKOMC</td>\n",
       "      <td>Female</td>\n",
       "      <td>0</td>\n",
       "      <td>No</td>\n",
       "      <td>No</td>\n",
       "      <td>10</td>\n",
       "      <td>No</td>\n",
       "      <td>No phone service</td>\n",
       "      <td>DSL</td>\n",
       "      <td>Yes</td>\n",
       "      <td>...</td>\n",
       "      <td>No</td>\n",
       "      <td>No</td>\n",
       "      <td>No</td>\n",
       "      <td>No</td>\n",
       "      <td>Month-to-month</td>\n",
       "      <td>No</td>\n",
       "      <td>Mailed check</td>\n",
       "      <td>29.75</td>\n",
       "      <td>301.9</td>\n",
       "      <td>No</td>\n",
       "    </tr>\n",
       "    <tr>\n",
       "      <th>8</th>\n",
       "      <td>7892-POOKP</td>\n",
       "      <td>Female</td>\n",
       "      <td>0</td>\n",
       "      <td>Yes</td>\n",
       "      <td>No</td>\n",
       "      <td>28</td>\n",
       "      <td>Yes</td>\n",
       "      <td>Yes</td>\n",
       "      <td>Fiber optic</td>\n",
       "      <td>No</td>\n",
       "      <td>...</td>\n",
       "      <td>Yes</td>\n",
       "      <td>Yes</td>\n",
       "      <td>Yes</td>\n",
       "      <td>Yes</td>\n",
       "      <td>Month-to-month</td>\n",
       "      <td>Yes</td>\n",
       "      <td>Electronic check</td>\n",
       "      <td>104.80</td>\n",
       "      <td>3046.05</td>\n",
       "      <td>Yes</td>\n",
       "    </tr>\n",
       "    <tr>\n",
       "      <th>9</th>\n",
       "      <td>6388-TABGU</td>\n",
       "      <td>Male</td>\n",
       "      <td>0</td>\n",
       "      <td>No</td>\n",
       "      <td>Yes</td>\n",
       "      <td>62</td>\n",
       "      <td>Yes</td>\n",
       "      <td>No</td>\n",
       "      <td>DSL</td>\n",
       "      <td>Yes</td>\n",
       "      <td>...</td>\n",
       "      <td>No</td>\n",
       "      <td>No</td>\n",
       "      <td>No</td>\n",
       "      <td>No</td>\n",
       "      <td>One year</td>\n",
       "      <td>No</td>\n",
       "      <td>Bank transfer (automatic)</td>\n",
       "      <td>56.15</td>\n",
       "      <td>3487.95</td>\n",
       "      <td>No</td>\n",
       "    </tr>\n",
       "  </tbody>\n",
       "</table>\n",
       "<p>10 rows × 21 columns</p>\n",
       "</div>"
      ],
      "text/plain": [
       "   customerID  gender  SeniorCitizen Partner Dependents  tenure PhoneService  \\\n",
       "0  7590-VHVEG  Female              0     Yes         No       1           No   \n",
       "1  5575-GNVDE    Male              0      No         No      34          Yes   \n",
       "2  3668-QPYBK    Male              0      No         No       2          Yes   \n",
       "3  7795-CFOCW    Male              0      No         No      45           No   \n",
       "4  9237-HQITU  Female              0      No         No       2          Yes   \n",
       "5  9305-CDSKC  Female              0      No         No       8          Yes   \n",
       "6  1452-KIOVK    Male              0      No        Yes      22          Yes   \n",
       "7  6713-OKOMC  Female              0      No         No      10           No   \n",
       "8  7892-POOKP  Female              0     Yes         No      28          Yes   \n",
       "9  6388-TABGU    Male              0      No        Yes      62          Yes   \n",
       "\n",
       "      MultipleLines InternetService OnlineSecurity  ... DeviceProtection  \\\n",
       "0  No phone service             DSL             No  ...               No   \n",
       "1                No             DSL            Yes  ...              Yes   \n",
       "2                No             DSL            Yes  ...               No   \n",
       "3  No phone service             DSL            Yes  ...              Yes   \n",
       "4                No     Fiber optic             No  ...               No   \n",
       "5               Yes     Fiber optic             No  ...              Yes   \n",
       "6               Yes     Fiber optic             No  ...               No   \n",
       "7  No phone service             DSL            Yes  ...               No   \n",
       "8               Yes     Fiber optic             No  ...              Yes   \n",
       "9                No             DSL            Yes  ...               No   \n",
       "\n",
       "  TechSupport StreamingTV StreamingMovies        Contract PaperlessBilling  \\\n",
       "0          No          No              No  Month-to-month              Yes   \n",
       "1          No          No              No        One year               No   \n",
       "2          No          No              No  Month-to-month              Yes   \n",
       "3         Yes          No              No        One year               No   \n",
       "4          No          No              No  Month-to-month              Yes   \n",
       "5          No         Yes             Yes  Month-to-month              Yes   \n",
       "6          No         Yes              No  Month-to-month              Yes   \n",
       "7          No          No              No  Month-to-month               No   \n",
       "8         Yes         Yes             Yes  Month-to-month              Yes   \n",
       "9          No          No              No        One year               No   \n",
       "\n",
       "               PaymentMethod MonthlyCharges  TotalCharges Churn  \n",
       "0           Electronic check          29.85         29.85    No  \n",
       "1               Mailed check          56.95        1889.5    No  \n",
       "2               Mailed check          53.85        108.15   Yes  \n",
       "3  Bank transfer (automatic)          42.30       1840.75    No  \n",
       "4           Electronic check          70.70        151.65   Yes  \n",
       "5           Electronic check          99.65         820.5   Yes  \n",
       "6    Credit card (automatic)          89.10        1949.4    No  \n",
       "7               Mailed check          29.75         301.9    No  \n",
       "8           Electronic check         104.80       3046.05   Yes  \n",
       "9  Bank transfer (automatic)          56.15       3487.95    No  \n",
       "\n",
       "[10 rows x 21 columns]"
      ]
     },
     "execution_count": 3,
     "metadata": {},
     "output_type": "execute_result"
    }
   ],
   "source": [
    "#bring back the dataset\n",
    "url='Dataset/mycustomerproject.csv'\n",
    "mai_data_churn=pd.read_csv(url)\n",
    "mai_data_churn.head(10)"
   ]
  },
  {
   "cell_type": "code",
   "execution_count": null,
   "metadata": {},
   "outputs": [],
   "source": [
    "#determinate the area of the database\n",
    "mai_data_churn.shape"
   ]
  },
  {
   "cell_type": "markdown",
   "metadata": {},
   "source": [
    "**As can be seen in the cell above, the dataframe have 7043 rows and 21 columns, detailed as follows**"
   ]
  },
  {
   "cell_type": "code",
   "execution_count": null,
   "metadata": {},
   "outputs": [],
   "source": [
    "#Show informations about the database\n",
    "mai_data_churn.info()"
   ]
  },
  {
   "cell_type": "markdown",
   "metadata": {},
   "source": [
    "**And there are no null values in our dataset**"
   ]
  },
  {
   "cell_type": "code",
   "execution_count": null,
   "metadata": {},
   "outputs": [],
   "source": [
    "#Show where churn is 'Yes'\n",
    "data_churning= mai_data_churn.loc[mai_data_churn['Churn'] == 'Yes']\n",
    "data_churning"
   ]
  },
  {
   "cell_type": "markdown",
   "metadata": {},
   "source": [
    "**Over a total of 7043 clients, 1869 are churn , any category combined**"
   ]
  },
  {
   "cell_type": "code",
   "execution_count": null,
   "metadata": {},
   "outputs": [],
   "source": [
    "fig, ax = plt.subplots(figsize=(10,6))\n",
    "sns.heatmap(data_churning.corr(), center=0, cmap='Reds')\n",
    "ax.set_title('Multi-Collinearity of Churning')"
   ]
  },
  {
   "cell_type": "code",
   "execution_count": null,
   "metadata": {},
   "outputs": [],
   "source": [
    "#Annotate each cell with the numeric value\n",
    "fig, ax = plt.subplots(figsize=(10,6))\n",
    "sns.heatmap(data_churning.corr(), center=0, cmap='BrBG', annot=True)"
   ]
  },
  {
   "cell_type": "code",
   "execution_count": null,
   "metadata": {},
   "outputs": [],
   "source": [
    "#to find every categorical values\n",
    "col_cat = ['gender','SeniorCitizen','Partner','Dependents','tenure','PhoneService','MultipleLines','InternetService','OnlineSecurity','DeviceProtection','TechSupport','StreamingTV','StreamingMovies','Contract','PaperlessBilling','PaymentMethod','MonthlyCharges','TotalCharges','Churn']\n",
    "for col in col_cat:\n",
    "    print(col, mai_data_churn[col].unique())"
   ]
  },
  {
   "cell_type": "code",
   "execution_count": null,
   "metadata": {},
   "outputs": [],
   "source": [
    "churning= mai_data_churn['Churn'].value_counts().to_frame().reset_index()\n",
    "churning\n",
    "churning2= churning.rename(columns={'index':'Cat_Val'})\n",
    "churning2"
   ]
  },
  {
   "cell_type": "code",
   "execution_count": null,
   "metadata": {},
   "outputs": [],
   "source": [
    "#number of churn in general\n",
    "churning2.plot(kind='bar', x='Cat_Val',y='Churn' )"
   ]
  },
  {
   "cell_type": "code",
   "execution_count": null,
   "metadata": {},
   "outputs": [],
   "source": [
    "#see the impact of the churn\n",
    "churn_impact = mai_data_churn[['Churn', 'MonthlyCharges']].groupby(['Churn']).sum()\n",
    "churn_impact\n",
    "churn_impact['Churn_impact'] = round((churn_impact/churn_impact.sum())*100,2)\n",
    "churn_impact[:2]"
   ]
  },
  {
   "cell_type": "code",
   "execution_count": null,
   "metadata": {},
   "outputs": [],
   "source": [
    "Churn = 'No', 'Yes'\n",
    "Churning = [69.5,30.5]\n",
    "colors = ['#8B5A8C','#3594FF']\n",
    "plt.pie(Churning, labels=Churn, colors=colors, autopct='%1.1f%%')    \n",
    "plt.title('Impact of churn')\n",
    "plt.show()"
   ]
  },
  {
   "cell_type": "markdown",
   "metadata": {},
   "source": [
    "**With the Churn, the company lost 30.5% of the revenue that it makes every month.**"
   ]
  },
  {
   "cell_type": "markdown",
   "metadata": {},
   "source": [
    "## B. Analysis based on the Demographics"
   ]
  },
  {
   "cell_type": "code",
   "execution_count": null,
   "metadata": {},
   "outputs": [],
   "source": [
    "demographics_churn=(pd.concat([mai_data_churn[mai_data_churn.columns[1:5].to_list()],mai_data_churn['Churn']],axis=1))\n",
    "demographics_churn"
   ]
  },
  {
   "cell_type": "code",
   "execution_count": null,
   "metadata": {},
   "outputs": [],
   "source": [
    "#to find categorical values\n",
    "col_cat = ['gender','SeniorCitizen','Partner','Dependents','Churn']\n",
    "for col in col_cat:\n",
    "    print(col, mai_data_churn[col].unique())"
   ]
  },
  {
   "cell_type": "code",
   "execution_count": null,
   "metadata": {},
   "outputs": [],
   "source": []
  },
  {
   "cell_type": "markdown",
   "metadata": {},
   "source": [
    "### 1. Status"
   ]
  },
  {
   "cell_type": "code",
   "execution_count": null,
   "metadata": {},
   "outputs": [],
   "source": [
    "status_churn=demographics_churn.groupby(['Partner','Churn']).size().unstack().reset_index()\n",
    "status_churn"
   ]
  },
  {
   "cell_type": "code",
   "execution_count": null,
   "metadata": {},
   "outputs": [],
   "source": [
    "status_churn.plot(kind='bar',x='Partner',y='Yes')"
   ]
  },
  {
   "cell_type": "markdown",
   "metadata": {},
   "source": [
    "**Clients who don't have partner churn most than clients who have**"
   ]
  },
  {
   "cell_type": "code",
   "execution_count": null,
   "metadata": {},
   "outputs": [],
   "source": [
    "status_churn['Proportion']= round ((status_churn['Yes']/1869)*100,2)\n",
    "status_churn[:2]"
   ]
  },
  {
   "cell_type": "code",
   "execution_count": null,
   "metadata": {},
   "outputs": [],
   "source": [
    "Partner = 'No', 'Yes'\n",
    "Churning = [64.21,35.79]\n",
    "colors = ['#F0DA32','#3594FF']\n",
    "plt.pie(Churning, labels=Partner, colors=colors, autopct='%1.1f%%')    \n",
    "plt.title('Churn by status')\n",
    "plt.show()"
   ]
  },
  {
   "cell_type": "markdown",
   "metadata": {},
   "source": [
    "**Of 1869 customers who are churn, 35.79% have a partner and 64.21% do not have**"
   ]
  },
  {
   "cell_type": "markdown",
   "metadata": {},
   "source": [
    "### 2, Gender"
   ]
  },
  {
   "cell_type": "code",
   "execution_count": null,
   "metadata": {},
   "outputs": [],
   "source": [
    "#number of churn by gender\n",
    "gender_churn= demographics_churn.groupby(['gender','Churn']).size().unstack().reset_index()\n",
    "gender_churn"
   ]
  },
  {
   "cell_type": "code",
   "execution_count": null,
   "metadata": {},
   "outputs": [],
   "source": [
    "#percent of gender one the t0tal of clients\n",
    "gender_churn['Total_gender'] = (gender_churn['No'] + gender_churn['Yes'])\n",
    "gender_churn[:2]"
   ]
  },
  {
   "cell_type": "code",
   "execution_count": null,
   "metadata": {},
   "outputs": [],
   "source": [
    "gender_churn['Proportion_gender'] = round((gender_churn['Yes'] / 1869)*100,2)\n",
    "gender_churn[:2]"
   ]
  },
  {
   "cell_type": "code",
   "execution_count": null,
   "metadata": {},
   "outputs": [],
   "source": [
    "gender = 'Female', 'Male'\n",
    "Churning = [50.24,49.76]\n",
    "colors = ['#F0DA32','#3594FF']\n",
    "plt.pie(Churning, labels=gender, colors=colors, autopct='%1.1f%%')    \n",
    "plt.title('Churn by gender')\n",
    "plt.show()"
   ]
  },
  {
   "cell_type": "markdown",
   "metadata": {},
   "source": [
    "**Of the 3,488 women, 939 are churned, and of the 3,555 men, 930 are. In other words 26.92% of the women are churn and 26.16% of the men too.   \n",
    "So 50.24% of churning's population is female and 49.75% is male**"
   ]
  },
  {
   "cell_type": "markdown",
   "metadata": {},
   "source": [
    "### 3. Age"
   ]
  },
  {
   "cell_type": "code",
   "execution_count": null,
   "metadata": {},
   "outputs": [],
   "source": [
    "#number of churn by age\n",
    "age_churn= demographics_churn.groupby(['SeniorCitizen','Churn']).size().unstack().reset_index()\n",
    "age_churn['Total'] = (age_churn['No'] + age_churn['Yes'])\n",
    "age_churn[:2]\n",
    "age_churn['Proportion_age'] = round((age_churn['Yes'] / 1869)*100,2)\n",
    "age_churn[:2]"
   ]
  },
  {
   "cell_type": "code",
   "execution_count": null,
   "metadata": {},
   "outputs": [],
   "source": [
    "age_percent = age_churn.append(age_churn.sum(numeric_only= True),ignore_index=True)\n",
    "age_percent"
   ]
  },
  {
   "cell_type": "code",
   "execution_count": null,
   "metadata": {},
   "outputs": [],
   "source": [
    "SeniorCitizen = '0.0', '1.0'\n",
    "Churning = [74.53,25.47]\n",
    "colors = ['#F0DA32','#3594FF']\n",
    "plt.pie(Churning, labels=SeniorCitizen, colors=colors, autopct='%1.1f%%')    \n",
    "plt.title('Churn by age')\n",
    "plt.show()"
   ]
  },
  {
   "cell_type": "markdown",
   "metadata": {},
   "source": [
    "**Of the 1869 churns, 1393 are young and 476 are old. This represents 23.61% of young people and 41.68% of old people, respectively.**   \n",
    "**But the churning by group of age is 74.5% for youngh people and 25.5% for old**"
   ]
  },
  {
   "cell_type": "markdown",
   "metadata": {},
   "source": [
    "### 4, Dependance"
   ]
  },
  {
   "cell_type": "code",
   "execution_count": null,
   "metadata": {},
   "outputs": [],
   "source": [
    "#number of churn by dependance\n",
    "dependance_churn= demographics_churn.groupby(['Dependents','Churn']).size().unstack().reset_index()\n",
    "dependance_churn['Total'] = (dependance_churn['No'] + dependance_churn['Yes'])\n",
    "dependance_churn[:2]\n",
    "dependance_churn['Proportion'] = round((dependance_churn['Yes'] / 1869)*100,2)\n",
    "dependance_churn[:2]"
   ]
  },
  {
   "cell_type": "code",
   "execution_count": null,
   "metadata": {},
   "outputs": [],
   "source": [
    "Dependents = 'No', 'Yes'\n",
    "Churning = [82.56,17.44]\n",
    "colors = ['#F0DA32','#3594FF']\n",
    "plt.pie(Churning, labels=Dependents, colors=colors, autopct='%1.1f%%')    \n",
    "plt.title('Churn by dependance')\n",
    "plt.show()"
   ]
  },
  {
   "cell_type": "markdown",
   "metadata": {},
   "source": [
    "**82.56% of clients who are churn, aren't dependents , and the 17.44% are**"
   ]
  },
  {
   "cell_type": "markdown",
   "metadata": {},
   "source": [
    "## C. Analysis on the services used"
   ]
  },
  {
   "cell_type": "code",
   "execution_count": null,
   "metadata": {},
   "outputs": [],
   "source": [
    "services_churn=(pd.concat([mai_data_churn[mai_data_churn.columns[6:15].to_list()],mai_data_churn['Churn']],axis=1))\n",
    "services_churn"
   ]
  },
  {
   "cell_type": "markdown",
   "metadata": {},
   "source": [
    "**There are 8 categories services**"
   ]
  },
  {
   "cell_type": "code",
   "execution_count": null,
   "metadata": {},
   "outputs": [],
   "source": [
    "#to find categorical values\n",
    "col_cat = ['PhoneService','MultipleLines','InternetService','OnlineSecurity','DeviceProtection','TechSupport','StreamingTV','StreamingMovies','Churn']\n",
    "for col in col_cat:\n",
    "    print(col, mai_data_churn[col].unique())"
   ]
  },
  {
   "cell_type": "markdown",
   "metadata": {},
   "source": [
    "### 1. PhoneService"
   ]
  },
  {
   "cell_type": "code",
   "execution_count": null,
   "metadata": {},
   "outputs": [],
   "source": [
    "#number of churn by PhoneService\n",
    "PhoneService_churn= services_churn.groupby(['PhoneService','Churn']).size().unstack().reset_index()\n",
    "PhoneService_churn['Total'] = (PhoneService_churn['No'] + PhoneService_churn['Yes'])\n",
    "PhoneService_churn[:2]\n",
    "PhoneService_churn['Proportion01'] = round((PhoneService_churn['Yes'] / 1869)*100,2)\n",
    "PhoneService_churn[:2]"
   ]
  },
  {
   "cell_type": "code",
   "execution_count": null,
   "metadata": {},
   "outputs": [],
   "source": [
    "PhoneService_percent = PhoneService_churn.append(PhoneService_churn.sum(numeric_only= True),ignore_index=True)\n",
    "PhoneService_percent"
   ]
  },
  {
   "cell_type": "code",
   "execution_count": null,
   "metadata": {},
   "outputs": [],
   "source": [
    "PhoneService = 'No', 'Yes'\n",
    "Churning = [9.1, 90.9]\n",
    "colors = ['#3594FF','#8B5A8C']\n",
    "plt.pie(Churning, labels=PhoneService, colors=colors, autopct='%1.1f%%')    \n",
    "plt.title('Churn by Phone services')\n",
    "plt.show()"
   ]
  },
  {
   "cell_type": "markdown",
   "metadata": {},
   "source": [
    "***Clients who use phone services are the least likely to leave***"
   ]
  },
  {
   "cell_type": "markdown",
   "metadata": {},
   "source": [
    "### 2. MultipleLines"
   ]
  },
  {
   "cell_type": "code",
   "execution_count": null,
   "metadata": {},
   "outputs": [],
   "source": [
    "#number of churn by MultipleLines\n",
    "MultipleLines_churn= services_churn.groupby(['MultipleLines','Churn']).size().unstack().reset_index()\n",
    "MultipleLines_churn['Total'] = (MultipleLines_churn['No'] + MultipleLines_churn['Yes'])\n",
    "MultipleLines_churn[:3]\n",
    "MultipleLines_churn['Proportion02'] = round((MultipleLines_churn['Yes'] / 1869)*100,2)\n",
    "MultipleLines_churn[:3]"
   ]
  },
  {
   "cell_type": "code",
   "execution_count": null,
   "metadata": {},
   "outputs": [],
   "source": [
    "MultipleLines_percent = MultipleLines_churn.append(MultipleLines_churn.sum(numeric_only= True),ignore_index=True)\n",
    "MultipleLines_percent"
   ]
  },
  {
   "cell_type": "code",
   "execution_count": null,
   "metadata": {},
   "outputs": [],
   "source": [
    "MultipleLines = 'No', 'No phone service', 'Yes'\n",
    "Churning = [45.43, 9.10, 45.48]\n",
    "colors = ['#F0DA32','#3594FF','#8B5A8C']\n",
    "plt.pie(Churning, labels=MultipleLines, colors=colors, autopct='%1.1f%%')    \n",
    "plt.title('Churn by MultipleLines services')\n",
    "plt.show()"
   ]
  },
  {
   "cell_type": "markdown",
   "metadata": {},
   "source": [
    "***The lowest churning percentage is for customers who no have phone service***"
   ]
  },
  {
   "cell_type": "markdown",
   "metadata": {},
   "source": [
    "### 3. InternetService"
   ]
  },
  {
   "cell_type": "code",
   "execution_count": null,
   "metadata": {},
   "outputs": [],
   "source": [
    "#number of churn by InternetService\n",
    "InternetService_churn= services_churn.groupby(['InternetService','Churn']).size().unstack().reset_index()\n",
    "InternetService_churn['Total'] = (InternetService_churn['No'] + InternetService_churn['Yes'])\n",
    "InternetService_churn[:3]\n",
    "InternetService_churn['Proportion03'] = round((InternetService_churn['Yes'] / 1869)*100,2)\n",
    "InternetService_churn[:3]"
   ]
  },
  {
   "cell_type": "code",
   "execution_count": null,
   "metadata": {},
   "outputs": [],
   "source": [
    "InternetService_percent = InternetService_churn.append(InternetService_churn.sum(numeric_only= True),ignore_index=True)\n",
    "InternetService_percent"
   ]
  },
  {
   "cell_type": "code",
   "execution_count": null,
   "metadata": {},
   "outputs": [],
   "source": [
    "InternetService = 'DLS', 'Fiber optic', 'No'\n",
    "Churning = [24.56, 69.40, 6.05]\n",
    "colors = ['#F0DA32','#3594FF','#8B5A8C']\n",
    "plt.pie(Churning, labels=InternetService, colors=colors, autopct='%1.1f%%')    \n",
    "plt.title('Churn by Internet services')\n",
    "plt.show()"
   ]
  },
  {
   "cell_type": "markdown",
   "metadata": {},
   "source": [
    "***The highest churning percentage is for customers who use fiber optic for th internet services***"
   ]
  },
  {
   "cell_type": "markdown",
   "metadata": {},
   "source": [
    "### 4. OnlineSecurity"
   ]
  },
  {
   "cell_type": "code",
   "execution_count": null,
   "metadata": {},
   "outputs": [],
   "source": [
    "#number of churn by OnlineSecurity\n",
    "OnlineSecurity_churn= services_churn.groupby(['OnlineSecurity','Churn']).size().unstack().reset_index()\n",
    "OnlineSecurity_churn['Total'] = (OnlineSecurity_churn['No'] + OnlineSecurity_churn['Yes'])\n",
    "OnlineSecurity_churn[:3]\n",
    "OnlineSecurity_churn['Proportion04'] = round((OnlineSecurity_churn['Yes'] / 1869)*100,2)\n",
    "OnlineSecurity_churn[:3]"
   ]
  },
  {
   "cell_type": "code",
   "execution_count": null,
   "metadata": {},
   "outputs": [],
   "source": [
    "OnlineSecurity_percent = OnlineSecurity_churn.append(OnlineSecurity_churn.sum(numeric_only= True),ignore_index=True)\n",
    "OnlineSecurity_percent"
   ]
  },
  {
   "cell_type": "code",
   "execution_count": null,
   "metadata": {},
   "outputs": [],
   "source": [
    "OnlineSecurity = 'No', 'No internet service', 'Yes'\n",
    "Churning = [78.17, 6.05, 15.78]\n",
    "colors = ['#F0DA32','#3594FF','#8B5A8C']\n",
    "plt.pie(Churning, labels=OnlineSecurity, colors=colors, autopct='%1.1f%%')    \n",
    "plt.title('Churn by OnlineSecurity services')\n",
    "plt.show()"
   ]
  },
  {
   "cell_type": "markdown",
   "metadata": {},
   "source": [
    "***Clients who have no internet service stay loyal***"
   ]
  },
  {
   "cell_type": "markdown",
   "metadata": {},
   "source": [
    "### 5. DeviceProtection"
   ]
  },
  {
   "cell_type": "code",
   "execution_count": null,
   "metadata": {},
   "outputs": [],
   "source": [
    "#number of churn by DeviceProtection\n",
    "DeviceProtection_churn= services_churn.groupby(['DeviceProtection','Churn']).size().unstack().reset_index()\n",
    "DeviceProtection_churn['Total'] = (DeviceProtection_churn['No'] + DeviceProtection_churn['Yes'])\n",
    "DeviceProtection_churn[:3]\n",
    "DeviceProtection_churn['Proportion05'] = round((DeviceProtection_churn['Yes'] / 1869)*100,2)\n",
    "DeviceProtection_churn[:3]"
   ]
  },
  {
   "cell_type": "code",
   "execution_count": null,
   "metadata": {},
   "outputs": [],
   "source": [
    "DeviceProtection_percent = DeviceProtection_churn.append(DeviceProtection_churn.sum(numeric_only= True),ignore_index=True)\n",
    "DeviceProtection_percent"
   ]
  },
  {
   "cell_type": "code",
   "execution_count": null,
   "metadata": {},
   "outputs": [],
   "source": [
    "DeviceProtection = 'No', 'No internet service', 'Yes'\n",
    "Churning = [64.79, 6.05, 29.16]\n",
    "colors = ['#F0DA32','#3594FF','#8B5A8C']\n",
    "plt.pie(Churning, labels=DeviceProtection, colors=colors, autopct='%1.1f%%')    \n",
    "plt.title('Churn by DeviceProtection services')\n",
    "plt.show()"
   ]
  },
  {
   "cell_type": "markdown",
   "metadata": {},
   "source": [
    "***Clients who have no internet service are the least likely to stay***"
   ]
  },
  {
   "cell_type": "markdown",
   "metadata": {},
   "source": [
    "### 6. TechSupport"
   ]
  },
  {
   "cell_type": "code",
   "execution_count": null,
   "metadata": {},
   "outputs": [],
   "source": [
    "#number of churn by TechSupport\n",
    "TechSupport_churn= services_churn.groupby(['TechSupport','Churn']).size().unstack().reset_index()\n",
    "TechSupport_churn['Total'] = (TechSupport_churn['No'] + TechSupport_churn['Yes'])\n",
    "TechSupport_churn[:3]\n",
    "TechSupport_churn['Proportion06'] = round((TechSupport_churn['Yes'] / 1869)*100,2)\n",
    "TechSupport_churn[:3]"
   ]
  },
  {
   "cell_type": "code",
   "execution_count": null,
   "metadata": {},
   "outputs": [],
   "source": [
    "TechSupport_percent = TechSupport_churn.append(TechSupport_churn.sum(numeric_only= True),ignore_index=True)\n",
    "TechSupport_percent"
   ]
  },
  {
   "cell_type": "code",
   "execution_count": null,
   "metadata": {},
   "outputs": [],
   "source": [
    "TechSupport = 'No', 'No internet service', 'Yes'\n",
    "Churning = [77.37, 6.05, 16.59]\n",
    "colors = ['#F0DA32','#3594FF','#8B5A8C']\n",
    "plt.pie(Churning, labels=TechSupport, colors=colors, autopct='%1.1f%%')    \n",
    "plt.title('Churn by TechSupport services')\n",
    "plt.show()"
   ]
  },
  {
   "cell_type": "markdown",
   "metadata": {},
   "source": [
    "***Clients who don't use TechSupport services are the least likely to leave\n",
    "(churning=77.4%)***"
   ]
  },
  {
   "cell_type": "markdown",
   "metadata": {},
   "source": [
    "### 7. StreamingTV"
   ]
  },
  {
   "cell_type": "code",
   "execution_count": null,
   "metadata": {},
   "outputs": [],
   "source": [
    "#number of churn by StreamingTV\n",
    "StreamingTV_churn= services_churn.groupby(['StreamingTV','Churn']).size().unstack().reset_index()\n",
    "StreamingTV_churn['Total'] = (StreamingTV_churn['No'] + StreamingTV_churn['Yes'])\n",
    "StreamingTV_churn[:3]\n",
    "StreamingTV_churn['Proportion07'] = round((StreamingTV_churn['Yes'] / 1869)*100,2)\n",
    "StreamingTV_churn[:3]"
   ]
  },
  {
   "cell_type": "code",
   "execution_count": null,
   "metadata": {},
   "outputs": [],
   "source": [
    "StreamingTV_percent = StreamingTV_churn.append(StreamingTV_churn.sum(numeric_only= True),ignore_index=True)\n",
    "StreamingTV_percent"
   ]
  },
  {
   "cell_type": "code",
   "execution_count": null,
   "metadata": {},
   "outputs": [],
   "source": [
    "StreamingTV = 'No', 'No internet service', 'Yes'\n",
    "Churning = [50.40, 6.05, 43.55]\n",
    "colors = ['#F0DA32','#3594FF','#8B5A8C']\n",
    "plt.pie(Churning, labels=StreamingTV, colors=colors, autopct='%1.1f%%')    \n",
    "plt.title('Churn by StreamingTV services')\n",
    "plt.show()"
   ]
  },
  {
   "cell_type": "markdown",
   "metadata": {},
   "source": [
    "***Clients who have no internet service are the least likely to stay***"
   ]
  },
  {
   "cell_type": "markdown",
   "metadata": {},
   "source": [
    "### 8. StreamingMovies"
   ]
  },
  {
   "cell_type": "code",
   "execution_count": null,
   "metadata": {},
   "outputs": [],
   "source": [
    "#number of churn by StreamingMovies\n",
    "StreamingMovies_churn= services_churn.groupby(['StreamingMovies','Churn']).size().unstack().reset_index()\n",
    "StreamingMovies_churn['Total'] = (StreamingMovies_churn['No'] + StreamingMovies_churn['Yes'])\n",
    "StreamingMovies_churn[:3]\n",
    "StreamingMovies_churn['Proportion08'] = round((StreamingMovies_churn['Yes'] / 1869)*100,2)\n",
    "StreamingMovies_churn[:3]"
   ]
  },
  {
   "cell_type": "code",
   "execution_count": null,
   "metadata": {},
   "outputs": [],
   "source": [
    "StreamingMovies_percent = StreamingMovies_churn.append(StreamingMovies_churn.sum(numeric_only= True),ignore_index=True)\n",
    "StreamingMovies_percent"
   ]
  },
  {
   "cell_type": "code",
   "execution_count": null,
   "metadata": {},
   "outputs": [],
   "source": [
    "StreamingMovies = 'No', 'No internet service', 'Yes'\n",
    "Churning = [50.19, 6.05, 43.77]\n",
    "colors = ['#FA8F0A','#3594FF','#8B5A8C']\n",
    "plt.pie(Churning, labels=StreamingMovies, colors=colors, autopct='%1.1f%%')    \n",
    "plt.title('Churn by StreamingMovies services')\n",
    "plt.show()"
   ]
  },
  {
   "cell_type": "markdown",
   "metadata": {},
   "source": [
    "***Clients who have no internet service are the least likely to stay***"
   ]
  },
  {
   "cell_type": "markdown",
   "metadata": {},
   "source": [
    "## D. Analysis on the Billing information"
   ]
  },
  {
   "cell_type": "code",
   "execution_count": null,
   "metadata": {},
   "outputs": [],
   "source": [
    "BillingInformation_churn=(pd.concat([mai_data_churn[mai_data_churn.columns[15:20].to_list()],mai_data_churn['Churn']],axis=1))\n",
    "BillingInformation_churn"
   ]
  },
  {
   "cell_type": "code",
   "execution_count": null,
   "metadata": {},
   "outputs": [],
   "source": [
    "#to find categorical values\n",
    "col_cat = ['Contract','PaperlessBilling','PaymentMethod','MonthlyCharges','TotalCharges','Churn']\n",
    "for col in col_cat:\n",
    "    print(col, mai_data_churn[col].unique())"
   ]
  },
  {
   "cell_type": "markdown",
   "metadata": {},
   "source": [
    "### 1. Contract"
   ]
  },
  {
   "cell_type": "code",
   "execution_count": null,
   "metadata": {},
   "outputs": [],
   "source": [
    "#number of churn by kind of contract\n",
    "contract_churn= BillingInformation_churn.groupby(['Contract','Churn']).size().unstack().reset_index()\n",
    "contract_churn['Total'] = (contract_churn['No'] + contract_churn['Yes'])\n",
    "contract_churn[:3]\n",
    "contract_churn['Proportion'] = round((contract_churn['Yes'] / 1869)*100,2)\n",
    "contract_churn[:3]"
   ]
  },
  {
   "cell_type": "code",
   "execution_count": null,
   "metadata": {},
   "outputs": [],
   "source": [
    "Contract = 'Month-to-month', 'One year','Two year'\n",
    "Churning = [88.55, 8.88,2.57]\n",
    "colors = ['#FA8F0A','#18DE9D','#61F527']\n",
    "plt.pie(Churning, labels=Contract, colors=colors)\n",
    "plt.show"
   ]
  },
  {
   "cell_type": "markdown",
   "metadata": {},
   "source": [
    "***Customers with a monthly contract are those with the highest churn percentage(88.55%). Those with a two-year contract are the most loyal(2.57% of churning)***\n",
    "\n",
    "***The annual contract policy is clearly better for the company***"
   ]
  },
  {
   "cell_type": "markdown",
   "metadata": {},
   "source": [
    "### 2.PaperlessBilling"
   ]
  },
  {
   "cell_type": "code",
   "execution_count": null,
   "metadata": {},
   "outputs": [],
   "source": [
    "#number of churn by kind of PaperlessBilling\n",
    "PaperlessBilling_churn= BillingInformation_churn.groupby(['PaperlessBilling','Churn']).size().unstack().reset_index()\n",
    "PaperlessBilling_churn['Total'] = (PaperlessBilling_churn['No'] + PaperlessBilling_churn['Yes'])\n",
    "PaperlessBilling_churn[:2]\n",
    "PaperlessBilling_churn['Proportion'] = round((PaperlessBilling_churn['Yes'] / 1869)*100,2)\n",
    "PaperlessBilling_churn[:2]"
   ]
  },
  {
   "cell_type": "code",
   "execution_count": null,
   "metadata": {},
   "outputs": [],
   "source": [
    "PaperlessBilling = 'No', 'Yes'\n",
    "Churning = [25.09, 74.91]\n",
    "colors = ['#FA8F0A','#18DE9D']\n",
    "plt.pie(Churning, labels=PaperlessBilling, colors=colors)    \n",
    "plt.title('churn by kind of PaperlessBilling')\n",
    "plt.show()"
   ]
  },
  {
   "cell_type": "markdown",
   "metadata": {},
   "source": [
    "***Customers who do not use the Paperless Billing policy are the least likely to stay(469 churn:25.09% pf churning).***"
   ]
  },
  {
   "cell_type": "markdown",
   "metadata": {},
   "source": [
    "### 3. PaymentMethod"
   ]
  },
  {
   "cell_type": "code",
   "execution_count": null,
   "metadata": {},
   "outputs": [],
   "source": [
    "#number of churn by kind of Payment Method\n",
    "PaymentMethod_churn= BillingInformation_churn.groupby(['PaymentMethod','Churn']).size().unstack().reset_index()\n",
    "PaymentMethod_churn['Total'] = (PaymentMethod_churn['No'] + PaymentMethod_churn['Yes'])\n",
    "PaymentMethod_churn[:4]\n",
    "PaymentMethod_churn['Proportion'] = round((PaymentMethod_churn['Yes'] / 1869)*100,2)\n",
    "PaymentMethod_churn[:4]"
   ]
  },
  {
   "cell_type": "code",
   "execution_count": null,
   "metadata": {},
   "outputs": [],
   "source": [
    "PaymentMethod = 'Bank transfer (automatic)', 'Credit card (automatic)', 'Electronic check', 'Mailed check'\n",
    "Churning = [13.80, 12.41, 57.30, 16.48]\n",
    "colors = ['#FA8F0A','#F0DA32','#61F527','#18DE9D']\n",
    "plt.pie(Churning, labels=PaymentMethod, colors=colors)    \n",
    "plt.title('Churn by kind of Payment Method')\n",
    "plt.show()"
   ]
  },
  {
   "cell_type": "markdown",
   "metadata": {},
   "source": [
    "***Clients who use electronic check for payment method are the least likely to leave\n",
    "(churning=57.30%)***"
   ]
  },
  {
   "cell_type": "markdown",
   "metadata": {},
   "source": [
    "# Bonus\n",
    "***How long will it take for the company to lose all its customers?  Which demographics will they lose first?***"
   ]
  },
  {
   "cell_type": "code",
   "execution_count": null,
   "metadata": {},
   "outputs": [],
   "source": [
    "#calculate how soon the company will lose all these customers\n",
    "quantity = 7043\n",
    "Churn_percent = 0.2654\n",
    "day = 0\n",
    "\n",
    "while quantity >=1:\n",
    "    quantity = quantity -(quantity * (Churn_percent))\n",
    "    day +=1\n",
    "    print(day)"
   ]
  },
  {
   "cell_type": "markdown",
   "metadata": {},
   "source": [
    "***In the hypothesis where the percentage of loss of customers is fixed and that there is no new customer,the company will lose all these customers nearly in 29 month***"
   ]
  },
  {
   "cell_type": "code",
   "execution_count": null,
   "metadata": {},
   "outputs": [],
   "source": [
    "#See which demographics they will lose first"
   ]
  },
  {
   "cell_type": "code",
   "execution_count": null,
   "metadata": {},
   "outputs": [],
   "source": [
    "#Sexe\n",
    "##Female\n",
    "quantity1 = 3488\n",
    "Churn_percent1 = 0.2692\n",
    "day1 = 0\n",
    "\n",
    "while quantity1 >=1:\n",
    "    quantity1 = quantity1 -(quantity1 * (Churn_percent1))\n",
    "    day1 +=1\n",
    "    print(day1)   \n",
    "    \n",
    "##Male\n",
    "quantity = 3555\n",
    "Churn_percent = 0.2641\n",
    "day = 0\n",
    "\n",
    "while quantity >=1:\n",
    "    quantity = quantity -(quantity * (Churn_percent))\n",
    "    day +=1\n",
    "    print(day)"
   ]
  },
  {
   "cell_type": "markdown",
   "metadata": {},
   "source": [
    "***In 27 month they will lost all demographics based on gender***"
   ]
  },
  {
   "cell_type": "code",
   "execution_count": null,
   "metadata": {},
   "outputs": [],
   "source": [
    "#Age\n",
    "##Youngh\n",
    "quantity1 = 5901\n",
    "Churn_percent1 = 0.7453\n",
    "day1 = 0\n",
    "\n",
    "while quantity1 >=1:\n",
    "    quantity1 = quantity1 -(quantity1 * (Churn_percent1))\n",
    "    day1 +=1\n",
    "    print(day1)   \n",
    "    \n",
    "#Old\n",
    "quantity = 1142\n",
    "Churn_percent = 0.2547\n",
    "day = 0\n",
    "\n",
    "while quantity >=1:\n",
    "    quantity = quantity -(quantity * (Churn_percent))\n",
    "    day +=1\n",
    "    print(day)"
   ]
  },
  {
   "cell_type": "markdown",
   "metadata": {},
   "source": [
    "**They will lost all younght clients(7 months) before the old (24 months)**"
   ]
  },
  {
   "cell_type": "code",
   "execution_count": null,
   "metadata": {},
   "outputs": [],
   "source": [
    "#Partner\n",
    "##no\n",
    "quantity1 = 3641\n",
    "Churn_percent1 = 0.4916\n",
    "day1 = 0\n",
    "\n",
    "while quantity1 >=1:\n",
    "    quantity1 = quantity1 -(quantity1 * (Churn_percent1))\n",
    "    day1 +=1\n",
    "    print(day1)   \n",
    "    \n",
    "#Yes\n",
    "quantity = 3402\n",
    "Churn_percent = 0.2447\n",
    "day = 0\n",
    "\n",
    "while quantity >=1:\n",
    "    quantity = quantity -(quantity * (Churn_percent))\n",
    "    day +=1\n",
    "    print(day)"
   ]
  },
  {
   "cell_type": "markdown",
   "metadata": {},
   "source": [
    "**They will lost all client who don't have partner in 13 months before they lost whom have partner(in 29 months)**"
   ]
  },
  {
   "cell_type": "code",
   "execution_count": null,
   "metadata": {},
   "outputs": [],
   "source": [
    "#Dependents\n",
    "##No\n",
    "quantity1 = 4933\n",
    "Churn_percent1 = 0.8256\n",
    "day1 = 0\n",
    "\n",
    "while quantity1 >=1:\n",
    "    quantity1 = quantity1 -(quantity1 * (Churn_percent1))\n",
    "    day1 +=1\n",
    "    print(day1)   \n",
    "    \n",
    "#Yes\n",
    "quantity = 2110\n",
    "Churn_percent = 0.1744\n",
    "day = 0\n",
    "\n",
    "while quantity >=1:\n",
    "    quantity = quantity -(quantity * (Churn_percent))\n",
    "    day +=1\n",
    "    print(day)"
   ]
  },
  {
   "cell_type": "markdown",
   "metadata": {},
   "source": [
    "**They will lost all clients who doesn't dependent in 5 months**"
   ]
  },
  {
   "cell_type": "markdown",
   "metadata": {},
   "source": [
    "### * Abstract"
   ]
  },
  {
   "cell_type": "markdown",
   "metadata": {},
   "source": [
    "***The company will lost all clients whose dependency demographic is negative (no dependency) first (in 5 months)***"
   ]
  },
  {
   "cell_type": "markdown",
   "metadata": {},
   "source": [
    "# Part 2"
   ]
  },
  {
   "cell_type": "markdown",
   "metadata": {},
   "source": [
    "## D. Customer profile"
   ]
  },
  {
   "cell_type": "code",
   "execution_count": 5,
   "metadata": {},
   "outputs": [],
   "source": [
    "#Change categorical value on numerical value\n",
    "for col in mai_data_churn.select_dtypes('object'):\n",
    "    mai_data_churn=pd.get_dummies(mai_data_churn, columns=[col])"
   ]
  },
  {
   "cell_type": "code",
   "execution_count": 6,
   "metadata": {},
   "outputs": [
    {
     "data": {
      "text/html": [
       "<div>\n",
       "<style scoped>\n",
       "    .dataframe tbody tr th:only-of-type {\n",
       "        vertical-align: middle;\n",
       "    }\n",
       "\n",
       "    .dataframe tbody tr th {\n",
       "        vertical-align: top;\n",
       "    }\n",
       "\n",
       "    .dataframe thead th {\n",
       "        text-align: right;\n",
       "    }\n",
       "</style>\n",
       "<table border=\"1\" class=\"dataframe\">\n",
       "  <thead>\n",
       "    <tr style=\"text-align: right;\">\n",
       "      <th></th>\n",
       "      <th>SeniorCitizen</th>\n",
       "      <th>tenure</th>\n",
       "      <th>MonthlyCharges</th>\n",
       "      <th>customerID_0002-ORFBO</th>\n",
       "      <th>customerID_0003-MKNFE</th>\n",
       "      <th>customerID_0004-TLHLJ</th>\n",
       "      <th>customerID_0011-IGKFF</th>\n",
       "      <th>customerID_0013-EXCHZ</th>\n",
       "      <th>customerID_0013-MHZWF</th>\n",
       "      <th>customerID_0013-SMEOE</th>\n",
       "      <th>...</th>\n",
       "      <th>TotalCharges_996.85</th>\n",
       "      <th>TotalCharges_996.95</th>\n",
       "      <th>TotalCharges_997.65</th>\n",
       "      <th>TotalCharges_997.75</th>\n",
       "      <th>TotalCharges_998.1</th>\n",
       "      <th>TotalCharges_999.45</th>\n",
       "      <th>TotalCharges_999.8</th>\n",
       "      <th>TotalCharges_999.9</th>\n",
       "      <th>Churn_No</th>\n",
       "      <th>Churn_Yes</th>\n",
       "    </tr>\n",
       "  </thead>\n",
       "  <tbody>\n",
       "    <tr>\n",
       "      <th>0</th>\n",
       "      <td>0</td>\n",
       "      <td>1</td>\n",
       "      <td>29.85</td>\n",
       "      <td>0</td>\n",
       "      <td>0</td>\n",
       "      <td>0</td>\n",
       "      <td>0</td>\n",
       "      <td>0</td>\n",
       "      <td>0</td>\n",
       "      <td>0</td>\n",
       "      <td>...</td>\n",
       "      <td>0</td>\n",
       "      <td>0</td>\n",
       "      <td>0</td>\n",
       "      <td>0</td>\n",
       "      <td>0</td>\n",
       "      <td>0</td>\n",
       "      <td>0</td>\n",
       "      <td>0</td>\n",
       "      <td>1</td>\n",
       "      <td>0</td>\n",
       "    </tr>\n",
       "    <tr>\n",
       "      <th>1</th>\n",
       "      <td>0</td>\n",
       "      <td>34</td>\n",
       "      <td>56.95</td>\n",
       "      <td>0</td>\n",
       "      <td>0</td>\n",
       "      <td>0</td>\n",
       "      <td>0</td>\n",
       "      <td>0</td>\n",
       "      <td>0</td>\n",
       "      <td>0</td>\n",
       "      <td>...</td>\n",
       "      <td>0</td>\n",
       "      <td>0</td>\n",
       "      <td>0</td>\n",
       "      <td>0</td>\n",
       "      <td>0</td>\n",
       "      <td>0</td>\n",
       "      <td>0</td>\n",
       "      <td>0</td>\n",
       "      <td>1</td>\n",
       "      <td>0</td>\n",
       "    </tr>\n",
       "    <tr>\n",
       "      <th>2</th>\n",
       "      <td>0</td>\n",
       "      <td>2</td>\n",
       "      <td>53.85</td>\n",
       "      <td>0</td>\n",
       "      <td>0</td>\n",
       "      <td>0</td>\n",
       "      <td>0</td>\n",
       "      <td>0</td>\n",
       "      <td>0</td>\n",
       "      <td>0</td>\n",
       "      <td>...</td>\n",
       "      <td>0</td>\n",
       "      <td>0</td>\n",
       "      <td>0</td>\n",
       "      <td>0</td>\n",
       "      <td>0</td>\n",
       "      <td>0</td>\n",
       "      <td>0</td>\n",
       "      <td>0</td>\n",
       "      <td>0</td>\n",
       "      <td>1</td>\n",
       "    </tr>\n",
       "    <tr>\n",
       "      <th>3</th>\n",
       "      <td>0</td>\n",
       "      <td>45</td>\n",
       "      <td>42.30</td>\n",
       "      <td>0</td>\n",
       "      <td>0</td>\n",
       "      <td>0</td>\n",
       "      <td>0</td>\n",
       "      <td>0</td>\n",
       "      <td>0</td>\n",
       "      <td>0</td>\n",
       "      <td>...</td>\n",
       "      <td>0</td>\n",
       "      <td>0</td>\n",
       "      <td>0</td>\n",
       "      <td>0</td>\n",
       "      <td>0</td>\n",
       "      <td>0</td>\n",
       "      <td>0</td>\n",
       "      <td>0</td>\n",
       "      <td>1</td>\n",
       "      <td>0</td>\n",
       "    </tr>\n",
       "    <tr>\n",
       "      <th>4</th>\n",
       "      <td>0</td>\n",
       "      <td>2</td>\n",
       "      <td>70.70</td>\n",
       "      <td>0</td>\n",
       "      <td>0</td>\n",
       "      <td>0</td>\n",
       "      <td>0</td>\n",
       "      <td>0</td>\n",
       "      <td>0</td>\n",
       "      <td>0</td>\n",
       "      <td>...</td>\n",
       "      <td>0</td>\n",
       "      <td>0</td>\n",
       "      <td>0</td>\n",
       "      <td>0</td>\n",
       "      <td>0</td>\n",
       "      <td>0</td>\n",
       "      <td>0</td>\n",
       "      <td>0</td>\n",
       "      <td>0</td>\n",
       "      <td>1</td>\n",
       "    </tr>\n",
       "  </tbody>\n",
       "</table>\n",
       "<p>5 rows × 13620 columns</p>\n",
       "</div>"
      ],
      "text/plain": [
       "   SeniorCitizen  tenure  MonthlyCharges  customerID_0002-ORFBO  \\\n",
       "0              0       1           29.85                      0   \n",
       "1              0      34           56.95                      0   \n",
       "2              0       2           53.85                      0   \n",
       "3              0      45           42.30                      0   \n",
       "4              0       2           70.70                      0   \n",
       "\n",
       "   customerID_0003-MKNFE  customerID_0004-TLHLJ  customerID_0011-IGKFF  \\\n",
       "0                      0                      0                      0   \n",
       "1                      0                      0                      0   \n",
       "2                      0                      0                      0   \n",
       "3                      0                      0                      0   \n",
       "4                      0                      0                      0   \n",
       "\n",
       "   customerID_0013-EXCHZ  customerID_0013-MHZWF  customerID_0013-SMEOE  ...  \\\n",
       "0                      0                      0                      0  ...   \n",
       "1                      0                      0                      0  ...   \n",
       "2                      0                      0                      0  ...   \n",
       "3                      0                      0                      0  ...   \n",
       "4                      0                      0                      0  ...   \n",
       "\n",
       "   TotalCharges_996.85  TotalCharges_996.95  TotalCharges_997.65  \\\n",
       "0                    0                    0                    0   \n",
       "1                    0                    0                    0   \n",
       "2                    0                    0                    0   \n",
       "3                    0                    0                    0   \n",
       "4                    0                    0                    0   \n",
       "\n",
       "   TotalCharges_997.75  TotalCharges_998.1  TotalCharges_999.45  \\\n",
       "0                    0                   0                    0   \n",
       "1                    0                   0                    0   \n",
       "2                    0                   0                    0   \n",
       "3                    0                   0                    0   \n",
       "4                    0                   0                    0   \n",
       "\n",
       "   TotalCharges_999.8  TotalCharges_999.9  Churn_No  Churn_Yes  \n",
       "0                   0                   0         1          0  \n",
       "1                   0                   0         1          0  \n",
       "2                   0                   0         0          1  \n",
       "3                   0                   0         1          0  \n",
       "4                   0                   0         0          1  \n",
       "\n",
       "[5 rows x 13620 columns]"
      ]
     },
     "execution_count": 6,
     "metadata": {},
     "output_type": "execute_result"
    }
   ],
   "source": [
    "mai_data_churn.head()"
   ]
  },
  {
   "cell_type": "code",
   "execution_count": 7,
   "metadata": {},
   "outputs": [
    {
     "ename": "NameError",
     "evalue": "name 'x' is not defined",
     "output_type": "error",
     "traceback": [
      "\u001b[1;31m---------------------------------------------------------------------------\u001b[0m",
      "\u001b[1;31mNameError\u001b[0m                                 Traceback (most recent call last)",
      "\u001b[1;32m<ipython-input-7-e8fc1aaf920a>\u001b[0m in \u001b[0;36m<module>\u001b[1;34m\u001b[0m\n\u001b[1;32m----> 1\u001b[1;33m \u001b[0mx_train\u001b[0m\u001b[1;33m,\u001b[0m \u001b[0mx_test\u001b[0m\u001b[1;33m,\u001b[0m \u001b[0my_train\u001b[0m\u001b[1;33m,\u001b[0m \u001b[0my_test\u001b[0m\u001b[1;33m=\u001b[0m \u001b[0mtrain_test_split\u001b[0m\u001b[1;33m(\u001b[0m\u001b[0mx\u001b[0m\u001b[1;33m,\u001b[0m\u001b[0my\u001b[0m\u001b[1;33m,\u001b[0m \u001b[0mtest_size\u001b[0m\u001b[1;33m=\u001b[0m\u001b[1;36m.25\u001b[0m\u001b[1;33m,\u001b[0m \u001b[0mramdom_state\u001b[0m\u001b[1;33m=\u001b[0m\u001b[1;36m1\u001b[0m\u001b[1;33m)\u001b[0m\u001b[1;33m\u001b[0m\u001b[1;33m\u001b[0m\u001b[0m\n\u001b[0m",
      "\u001b[1;31mNameError\u001b[0m: name 'x' is not defined"
     ]
    }
   ],
   "source": [
    "x_train, x_test, y_train, y_test= train_test_split(x,y, test_size=.25, ramdom_state=1)"
   ]
  },
  {
   "cell_type": "markdown",
   "metadata": {},
   "source": [
    "### 1. Age"
   ]
  },
  {
   "cell_type": "code",
   "execution_count": null,
   "metadata": {},
   "outputs": [],
   "source": [
    "#The company has more young than old and they are more inclined to churn, age can use to determinate a profil.\n"
   ]
  },
  {
   "cell_type": "code",
   "execution_count": 4,
   "metadata": {},
   "outputs": [
    {
     "data": {
      "text/html": [
       "<div>\n",
       "<style scoped>\n",
       "    .dataframe tbody tr th:only-of-type {\n",
       "        vertical-align: middle;\n",
       "    }\n",
       "\n",
       "    .dataframe tbody tr th {\n",
       "        vertical-align: top;\n",
       "    }\n",
       "\n",
       "    .dataframe thead th {\n",
       "        text-align: right;\n",
       "    }\n",
       "</style>\n",
       "<table border=\"1\" class=\"dataframe\">\n",
       "  <thead>\n",
       "    <tr style=\"text-align: right;\">\n",
       "      <th></th>\n",
       "      <th>SeniorCitizen</th>\n",
       "    </tr>\n",
       "    <tr>\n",
       "      <th>Churn</th>\n",
       "      <th></th>\n",
       "    </tr>\n",
       "  </thead>\n",
       "  <tbody>\n",
       "    <tr>\n",
       "      <th>No</th>\n",
       "      <td>666</td>\n",
       "    </tr>\n",
       "    <tr>\n",
       "      <th>Yes</th>\n",
       "      <td>476</td>\n",
       "    </tr>\n",
       "  </tbody>\n",
       "</table>\n",
       "</div>"
      ],
      "text/plain": [
       "       SeniorCitizen\n",
       "Churn               \n",
       "No               666\n",
       "Yes              476"
      ]
     },
     "execution_count": 4,
     "metadata": {},
     "output_type": "execute_result"
    }
   ],
   "source": [
    "profil= mai_data_churn.loc[mai_data_churn['Churn'] == 'Yes']\n",
    "profil\n",
    "age_profil = mai_data_churn[['Churn', 'SeniorCitizen']].groupby(['Churn']).sum()\n",
    "age_profil"
   ]
  },
  {
   "cell_type": "markdown",
   "metadata": {},
   "source": [
    "### 2. Services used"
   ]
  },
  {
   "cell_type": "code",
   "execution_count": null,
   "metadata": {},
   "outputs": [],
   "source": [
    "#Given the variety of services offered, the type of services can be used to profile"
   ]
  },
  {
   "cell_type": "code",
   "execution_count": null,
   "metadata": {},
   "outputs": [],
   "source": []
  },
  {
   "cell_type": "code",
   "execution_count": null,
   "metadata": {},
   "outputs": [],
   "source": []
  }
 ],
 "metadata": {
  "kernelspec": {
   "display_name": "Python 3",
   "language": "python",
   "name": "python3"
  },
  "language_info": {
   "codemirror_mode": {
    "name": "ipython",
    "version": 3
   },
   "file_extension": ".py",
   "mimetype": "text/x-python",
   "name": "python",
   "nbconvert_exporter": "python",
   "pygments_lexer": "ipython3",
   "version": "3.7.6"
  }
 },
 "nbformat": 4,
 "nbformat_minor": 4
}
